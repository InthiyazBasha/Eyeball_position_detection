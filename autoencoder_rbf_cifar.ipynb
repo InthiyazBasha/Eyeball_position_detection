{
  "nbformat": 4,
  "nbformat_minor": 0,
  "metadata": {
    "colab": {
      "name": "autoencoder_rbf_cifar",
      "version": "0.3.2",
      "provenance": [],
      "collapsed_sections": [],
      "include_colab_link": true
    },
    "kernelspec": {
      "name": "python3",
      "display_name": "Python 3"
    },
    "accelerator": "GPU"
  },
  "cells": [
    {
      "cell_type": "markdown",
      "metadata": {
        "id": "view-in-github",
        "colab_type": "text"
      },
      "source": [
        "<a href=\"https://colab.research.google.com/github/inthiyaz141176/Eyeball_position_detection/blob/master/autoencoder_rbf_cifar.ipynb\" target=\"_parent\"><img src=\"https://colab.research.google.com/assets/colab-badge.svg\" alt=\"Open In Colab\"/></a>"
      ]
    },
    {
      "cell_type": "code",
      "metadata": {
        "id": "TE7P5HygPe4p",
        "colab_type": "code",
        "outputId": "160ba527-a4d6-40d6-d121-08e0d4e7ab44",
        "colab": {
          "base_uri": "https://localhost:8080/",
          "height": 69
        }
      },
      "source": [
        "from keras.datasets import cifar10\n",
        "import numpy as np\n",
        "\n",
        "(x_train, _), (x_test, _) = cifar10.load_data()\n",
        "\n",
        "# As before, let's make everything float and scale\n",
        "x_train = x_train.astype('float32')\n",
        "x_test = x_test.astype('float32')\n",
        "x_train /= 255\n",
        "x_test /= 255"
      ],
      "execution_count": 1,
      "outputs": [
        {
          "output_type": "stream",
          "text": [
            "Using TensorFlow backend.\n"
          ],
          "name": "stderr"
        },
        {
          "output_type": "stream",
          "text": [
            "Downloading data from https://www.cs.toronto.edu/~kriz/cifar-10-python.tar.gz\n",
            "170500096/170498071 [==============================] - 34s 0us/step\n"
          ],
          "name": "stdout"
        }
      ]
    },
    {
      "cell_type": "code",
      "metadata": {
        "id": "e2nAecYI-tCB",
        "colab_type": "code",
        "outputId": "35bed08d-3012-4a41-8421-31777f279ce2",
        "colab": {
          "base_uri": "https://localhost:8080/",
          "height": 697
        }
      },
      "source": [
        "from keras.layers import Input, Dense, Conv2D, MaxPooling2D, UpSampling2D,Flatten\n",
        "from keras.models import Model\n",
        "from keras import backend as K\n",
        "\n",
        "def encoder(input_img):\n",
        "  x = Conv2D(16, (3, 3), activation='relu', padding='same')(input_img)\n",
        "  x = MaxPooling2D((2, 2), padding='same')(x)\n",
        "  x = Conv2D(8, (3, 3), activation='relu', padding='same')(x)\n",
        "  x = MaxPooling2D((2, 2), padding='same')(x)\n",
        "  x = Conv2D(8, (3, 3), activation='relu', padding='same')(x)\n",
        "  encoded = MaxPooling2D((2, 2), padding='same')(x)\n",
        "  flatten=Flatten()(encoded)\n",
        "  return encoded, flatten\n",
        "# at this point the representation is (4, 4, 8) i.e. 128-dimensional\n",
        "\n",
        "def decoder(input_img):\n",
        "  encoded=encoder(input_img)\n",
        "  x = UpSampling2D((2, 2))(encoded[0])\n",
        "  x = Conv2D(8, (3, 3), activation='relu', padding='same')(x)\n",
        "  x = UpSampling2D((2, 2))(x)\n",
        "  x = Conv2D(8, (3, 3), activation='relu', padding='same')(x)\n",
        "  x = UpSampling2D((2, 2))(x)\n",
        "  x = Conv2D(16, (3, 3), activation='relu',padding='same')(x)\n",
        "  decoded = Conv2D(3, (3, 3), activation='sigmoid', padding='same')(x)\n",
        "  return decoded\n",
        "input_img = Input(shape=x_train.shape[1:])\n",
        "autoencoder = Model(input_img, decoder(input_img))\n",
        "autoencoder.compile(loss='binary_crossentropy', optimizer='adadelta')\n",
        "autoencoder.summary()"
      ],
      "execution_count": 2,
      "outputs": [
        {
          "output_type": "stream",
          "text": [
            "WARNING:tensorflow:From /usr/local/lib/python3.6/dist-packages/tensorflow/python/framework/op_def_library.py:263: colocate_with (from tensorflow.python.framework.ops) is deprecated and will be removed in a future version.\n",
            "Instructions for updating:\n",
            "Colocations handled automatically by placer.\n",
            "_________________________________________________________________\n",
            "Layer (type)                 Output Shape              Param #   \n",
            "=================================================================\n",
            "input_1 (InputLayer)         (None, 32, 32, 3)         0         \n",
            "_________________________________________________________________\n",
            "conv2d_1 (Conv2D)            (None, 32, 32, 16)        448       \n",
            "_________________________________________________________________\n",
            "max_pooling2d_1 (MaxPooling2 (None, 16, 16, 16)        0         \n",
            "_________________________________________________________________\n",
            "conv2d_2 (Conv2D)            (None, 16, 16, 8)         1160      \n",
            "_________________________________________________________________\n",
            "max_pooling2d_2 (MaxPooling2 (None, 8, 8, 8)           0         \n",
            "_________________________________________________________________\n",
            "conv2d_3 (Conv2D)            (None, 8, 8, 8)           584       \n",
            "_________________________________________________________________\n",
            "max_pooling2d_3 (MaxPooling2 (None, 4, 4, 8)           0         \n",
            "_________________________________________________________________\n",
            "up_sampling2d_1 (UpSampling2 (None, 8, 8, 8)           0         \n",
            "_________________________________________________________________\n",
            "conv2d_4 (Conv2D)            (None, 8, 8, 8)           584       \n",
            "_________________________________________________________________\n",
            "up_sampling2d_2 (UpSampling2 (None, 16, 16, 8)         0         \n",
            "_________________________________________________________________\n",
            "conv2d_5 (Conv2D)            (None, 16, 16, 8)         584       \n",
            "_________________________________________________________________\n",
            "up_sampling2d_3 (UpSampling2 (None, 32, 32, 8)         0         \n",
            "_________________________________________________________________\n",
            "conv2d_6 (Conv2D)            (None, 32, 32, 16)        1168      \n",
            "_________________________________________________________________\n",
            "conv2d_7 (Conv2D)            (None, 32, 32, 3)         435       \n",
            "=================================================================\n",
            "Total params: 4,963\n",
            "Trainable params: 4,963\n",
            "Non-trainable params: 0\n",
            "_________________________________________________________________\n"
          ],
          "name": "stdout"
        }
      ]
    },
    {
      "cell_type": "code",
      "metadata": {
        "id": "OK6lj-P5BbAQ",
        "colab_type": "code",
        "outputId": "4b962d59-a373-47ca-c50d-10fa39115128",
        "colab": {
          "base_uri": "https://localhost:8080/",
          "height": 3597
        }
      },
      "source": [
        "\n",
        "\n",
        "autoencoder.fit(x_train, x_train,\n",
        "                epochs=100,\n",
        "                batch_size=32,\n",
        "                shuffle=True,\n",
        "                validation_data=(x_test, x_test))"
      ],
      "execution_count": 3,
      "outputs": [
        {
          "output_type": "stream",
          "text": [
            "WARNING:tensorflow:From /usr/local/lib/python3.6/dist-packages/tensorflow/python/ops/math_ops.py:3066: to_int32 (from tensorflow.python.ops.math_ops) is deprecated and will be removed in a future version.\n",
            "Instructions for updating:\n",
            "Use tf.cast instead.\n",
            "Train on 50000 samples, validate on 10000 samples\n",
            "Epoch 1/100\n",
            "50000/50000 [==============================] - 17s 343us/step - loss: 0.6116 - val_loss: 0.5969\n",
            "Epoch 2/100\n",
            "50000/50000 [==============================] - 11s 223us/step - loss: 0.5947 - val_loss: 0.5963\n",
            "Epoch 3/100\n",
            "50000/50000 [==============================] - 11s 223us/step - loss: 0.5919 - val_loss: 0.5883\n",
            "Epoch 4/100\n",
            "50000/50000 [==============================] - 11s 223us/step - loss: 0.5876 - val_loss: 0.5852\n",
            "Epoch 5/100\n",
            "50000/50000 [==============================] - 12s 232us/step - loss: 0.5849 - val_loss: 0.5845\n",
            "Epoch 6/100\n",
            "50000/50000 [==============================] - 12s 239us/step - loss: 0.5838 - val_loss: 0.5874\n",
            "Epoch 7/100\n",
            "50000/50000 [==============================] - 11s 223us/step - loss: 0.5829 - val_loss: 0.5857\n",
            "Epoch 8/100\n",
            "50000/50000 [==============================] - 11s 222us/step - loss: 0.5823 - val_loss: 0.5908\n",
            "Epoch 9/100\n",
            "50000/50000 [==============================] - 11s 221us/step - loss: 0.5819 - val_loss: 0.5800\n",
            "Epoch 10/100\n",
            "50000/50000 [==============================] - 11s 221us/step - loss: 0.5811 - val_loss: 0.5815\n",
            "Epoch 11/100\n",
            "50000/50000 [==============================] - 11s 222us/step - loss: 0.5811 - val_loss: 0.5845\n",
            "Epoch 12/100\n",
            "50000/50000 [==============================] - 11s 226us/step - loss: 0.5808 - val_loss: 0.5820\n",
            "Epoch 13/100\n",
            "50000/50000 [==============================] - 12s 243us/step - loss: 0.5804 - val_loss: 0.5808\n",
            "Epoch 14/100\n",
            "50000/50000 [==============================] - 11s 221us/step - loss: 0.5803 - val_loss: 0.5810\n",
            "Epoch 15/100\n",
            "50000/50000 [==============================] - 11s 221us/step - loss: 0.5802 - val_loss: 0.5821\n",
            "Epoch 16/100\n",
            "50000/50000 [==============================] - 11s 221us/step - loss: 0.5798 - val_loss: 0.5847\n",
            "Epoch 17/100\n",
            "50000/50000 [==============================] - 12s 234us/step - loss: 0.5796 - val_loss: 0.5804\n",
            "Epoch 18/100\n",
            "50000/50000 [==============================] - 11s 224us/step - loss: 0.5794 - val_loss: 0.5790\n",
            "Epoch 19/100\n",
            "50000/50000 [==============================] - 11s 223us/step - loss: 0.5794 - val_loss: 0.5802\n",
            "Epoch 20/100\n",
            "50000/50000 [==============================] - 12s 246us/step - loss: 0.5793 - val_loss: 0.5795\n",
            "Epoch 21/100\n",
            "50000/50000 [==============================] - 11s 221us/step - loss: 0.5791 - val_loss: 0.5808\n",
            "Epoch 22/100\n",
            "50000/50000 [==============================] - 11s 221us/step - loss: 0.5790 - val_loss: 0.5789\n",
            "Epoch 23/100\n",
            "50000/50000 [==============================] - 11s 221us/step - loss: 0.5790 - val_loss: 0.5822\n",
            "Epoch 24/100\n",
            "50000/50000 [==============================] - 11s 221us/step - loss: 0.5787 - val_loss: 0.5812\n",
            "Epoch 25/100\n",
            "50000/50000 [==============================] - 11s 220us/step - loss: 0.5786 - val_loss: 0.5785\n",
            "Epoch 26/100\n",
            "50000/50000 [==============================] - 11s 221us/step - loss: 0.5785 - val_loss: 0.5779\n",
            "Epoch 27/100\n",
            "50000/50000 [==============================] - 12s 249us/step - loss: 0.5787 - val_loss: 0.5779\n",
            "Epoch 28/100\n",
            "50000/50000 [==============================] - 13s 253us/step - loss: 0.5786 - val_loss: 0.5792\n",
            "Epoch 29/100\n",
            "50000/50000 [==============================] - 11s 222us/step - loss: 0.5783 - val_loss: 0.5797\n",
            "Epoch 30/100\n",
            "50000/50000 [==============================] - 11s 221us/step - loss: 0.5783 - val_loss: 0.5776\n",
            "Epoch 31/100\n",
            "50000/50000 [==============================] - 11s 221us/step - loss: 0.5784 - val_loss: 0.5784\n",
            "Epoch 32/100\n",
            "50000/50000 [==============================] - 11s 222us/step - loss: 0.5783 - val_loss: 0.5813\n",
            "Epoch 33/100\n",
            "50000/50000 [==============================] - 11s 221us/step - loss: 0.5783 - val_loss: 0.5786\n",
            "Epoch 34/100\n",
            "50000/50000 [==============================] - 12s 248us/step - loss: 0.5782 - val_loss: 0.5800\n",
            "Epoch 35/100\n",
            "50000/50000 [==============================] - 11s 221us/step - loss: 0.5782 - val_loss: 0.5781\n",
            "Epoch 36/100\n",
            "50000/50000 [==============================] - 11s 221us/step - loss: 0.5780 - val_loss: 0.5784\n",
            "Epoch 37/100\n",
            "50000/50000 [==============================] - 11s 221us/step - loss: 0.5781 - val_loss: 0.5775\n",
            "Epoch 38/100\n",
            "50000/50000 [==============================] - 11s 221us/step - loss: 0.5780 - val_loss: 0.5786\n",
            "Epoch 39/100\n",
            "50000/50000 [==============================] - 11s 222us/step - loss: 0.5779 - val_loss: 0.5780\n",
            "Epoch 40/100\n",
            "50000/50000 [==============================] - 11s 221us/step - loss: 0.5779 - val_loss: 0.5781\n",
            "Epoch 41/100\n",
            "50000/50000 [==============================] - 12s 246us/step - loss: 0.5778 - val_loss: 0.5773\n",
            "Epoch 42/100\n",
            "50000/50000 [==============================] - 11s 224us/step - loss: 0.5779 - val_loss: 0.5773\n",
            "Epoch 43/100\n",
            "50000/50000 [==============================] - 11s 221us/step - loss: 0.5777 - val_loss: 0.5780\n",
            "Epoch 44/100\n",
            "50000/50000 [==============================] - 12s 236us/step - loss: 0.5777 - val_loss: 0.5789\n",
            "Epoch 45/100\n",
            "50000/50000 [==============================] - 11s 221us/step - loss: 0.5775 - val_loss: 0.5776\n",
            "Epoch 46/100\n",
            "50000/50000 [==============================] - 11s 221us/step - loss: 0.5776 - val_loss: 0.5779\n",
            "Epoch 47/100\n",
            "50000/50000 [==============================] - 11s 221us/step - loss: 0.5776 - val_loss: 0.5777\n",
            "Epoch 48/100\n",
            "50000/50000 [==============================] - 12s 242us/step - loss: 0.5777 - val_loss: 0.5800\n",
            "Epoch 49/100\n",
            "50000/50000 [==============================] - 11s 226us/step - loss: 0.5774 - val_loss: 0.5770\n",
            "Epoch 50/100\n",
            "50000/50000 [==============================] - 11s 222us/step - loss: 0.5775 - val_loss: 0.5789\n",
            "Epoch 51/100\n",
            "50000/50000 [==============================] - 11s 221us/step - loss: 0.5774 - val_loss: 0.5773\n",
            "Epoch 52/100\n",
            "50000/50000 [==============================] - 11s 220us/step - loss: 0.5773 - val_loss: 0.5820\n",
            "Epoch 53/100\n",
            "50000/50000 [==============================] - 11s 221us/step - loss: 0.5773 - val_loss: 0.5776\n",
            "Epoch 54/100\n",
            "50000/50000 [==============================] - 11s 222us/step - loss: 0.5773 - val_loss: 0.5775\n",
            "Epoch 55/100\n",
            "50000/50000 [==============================] - 12s 241us/step - loss: 0.5772 - val_loss: 0.5804\n",
            "Epoch 56/100\n",
            "50000/50000 [==============================] - 12s 241us/step - loss: 0.5773 - val_loss: 0.5779\n",
            "Epoch 57/100\n",
            "50000/50000 [==============================] - 11s 220us/step - loss: 0.5773 - val_loss: 0.5765\n",
            "Epoch 58/100\n",
            "50000/50000 [==============================] - 11s 221us/step - loss: 0.5771 - val_loss: 0.5776\n",
            "Epoch 59/100\n",
            "50000/50000 [==============================] - 11s 221us/step - loss: 0.5773 - val_loss: 0.5771\n",
            "Epoch 60/100\n",
            "50000/50000 [==============================] - 11s 221us/step - loss: 0.5770 - val_loss: 0.5780\n",
            "Epoch 61/100\n",
            "50000/50000 [==============================] - 11s 222us/step - loss: 0.5772 - val_loss: 0.5784\n",
            "Epoch 62/100\n",
            "50000/50000 [==============================] - 12s 233us/step - loss: 0.5772 - val_loss: 0.5777\n",
            "Epoch 63/100\n",
            "50000/50000 [==============================] - 12s 236us/step - loss: 0.5772 - val_loss: 0.5785\n",
            "Epoch 64/100\n",
            "50000/50000 [==============================] - 11s 221us/step - loss: 0.5770 - val_loss: 0.5785\n",
            "Epoch 65/100\n",
            "50000/50000 [==============================] - 11s 222us/step - loss: 0.5769 - val_loss: 0.5770\n",
            "Epoch 66/100\n",
            "50000/50000 [==============================] - 11s 222us/step - loss: 0.5770 - val_loss: 0.5769\n",
            "Epoch 67/100\n",
            "50000/50000 [==============================] - 11s 221us/step - loss: 0.5770 - val_loss: 0.5781\n",
            "Epoch 68/100\n",
            "50000/50000 [==============================] - 11s 221us/step - loss: 0.5770 - val_loss: 0.5788\n",
            "Epoch 69/100\n",
            "50000/50000 [==============================] - 11s 229us/step - loss: 0.5768 - val_loss: 0.5779\n",
            "Epoch 70/100\n",
            "50000/50000 [==============================] - 12s 240us/step - loss: 0.5767 - val_loss: 0.5801\n",
            "Epoch 71/100\n",
            "50000/50000 [==============================] - 12s 238us/step - loss: 0.5769 - val_loss: 0.5785\n",
            "Epoch 72/100\n",
            "50000/50000 [==============================] - 11s 221us/step - loss: 0.5770 - val_loss: 0.5764\n",
            "Epoch 73/100\n",
            "50000/50000 [==============================] - 11s 221us/step - loss: 0.5770 - val_loss: 0.5772\n",
            "Epoch 74/100\n",
            "50000/50000 [==============================] - 11s 221us/step - loss: 0.5769 - val_loss: 0.5764\n",
            "Epoch 75/100\n",
            "50000/50000 [==============================] - 11s 221us/step - loss: 0.5767 - val_loss: 0.5761\n",
            "Epoch 76/100\n",
            "50000/50000 [==============================] - 11s 225us/step - loss: 0.5768 - val_loss: 0.5774\n",
            "Epoch 77/100\n",
            "50000/50000 [==============================] - 12s 244us/step - loss: 0.5767 - val_loss: 0.5773\n",
            "Epoch 78/100\n",
            "50000/50000 [==============================] - 11s 221us/step - loss: 0.5768 - val_loss: 0.5765\n",
            "Epoch 79/100\n",
            "50000/50000 [==============================] - 11s 221us/step - loss: 0.5768 - val_loss: 0.5803\n",
            "Epoch 80/100\n",
            "50000/50000 [==============================] - 11s 221us/step - loss: 0.5768 - val_loss: 0.5780\n",
            "Epoch 81/100\n",
            "50000/50000 [==============================] - 11s 221us/step - loss: 0.5767 - val_loss: 0.5774\n",
            "Epoch 82/100\n",
            "50000/50000 [==============================] - 11s 222us/step - loss: 0.5768 - val_loss: 0.5784\n",
            "Epoch 83/100\n",
            "50000/50000 [==============================] - 13s 256us/step - loss: 0.5766 - val_loss: 0.5810\n",
            "Epoch 84/100\n",
            "50000/50000 [==============================] - 12s 245us/step - loss: 0.5767 - val_loss: 0.5778\n",
            "Epoch 85/100\n",
            "50000/50000 [==============================] - 11s 221us/step - loss: 0.5767 - val_loss: 0.5757\n",
            "Epoch 86/100\n",
            "50000/50000 [==============================] - 11s 221us/step - loss: 0.5766 - val_loss: 0.5802\n",
            "Epoch 87/100\n",
            "50000/50000 [==============================] - 11s 221us/step - loss: 0.5767 - val_loss: 0.5770\n",
            "Epoch 88/100\n",
            "50000/50000 [==============================] - 11s 221us/step - loss: 0.5767 - val_loss: 0.5793\n",
            "Epoch 89/100\n",
            "50000/50000 [==============================] - 11s 220us/step - loss: 0.5767 - val_loss: 0.5771\n",
            "Epoch 90/100\n",
            "50000/50000 [==============================] - 11s 221us/step - loss: 0.5766 - val_loss: 0.5770\n",
            "Epoch 91/100\n",
            "50000/50000 [==============================] - 12s 249us/step - loss: 0.5765 - val_loss: 0.5766\n",
            "Epoch 92/100\n",
            "50000/50000 [==============================] - 11s 221us/step - loss: 0.5765 - val_loss: 0.5758\n",
            "Epoch 93/100\n",
            "50000/50000 [==============================] - 11s 222us/step - loss: 0.5765 - val_loss: 0.5792\n",
            "Epoch 94/100\n",
            "50000/50000 [==============================] - 11s 221us/step - loss: 0.5765 - val_loss: 0.5798\n",
            "Epoch 95/100\n",
            "50000/50000 [==============================] - 11s 221us/step - loss: 0.5766 - val_loss: 0.5775\n",
            "Epoch 96/100\n",
            "50000/50000 [==============================] - 11s 221us/step - loss: 0.5765 - val_loss: 0.5825\n",
            "Epoch 97/100\n",
            "50000/50000 [==============================] - 11s 221us/step - loss: 0.5764 - val_loss: 0.5779\n",
            "Epoch 98/100\n",
            "50000/50000 [==============================] - 12s 249us/step - loss: 0.5766 - val_loss: 0.5771\n",
            "Epoch 99/100\n",
            "50000/50000 [==============================] - 11s 221us/step - loss: 0.5765 - val_loss: 0.5779\n",
            "Epoch 100/100\n",
            "50000/50000 [==============================] - 11s 221us/step - loss: 0.5766 - val_loss: 0.5770\n"
          ],
          "name": "stdout"
        },
        {
          "output_type": "execute_result",
          "data": {
            "text/plain": [
              "<keras.callbacks.History at 0x7f2b5ae73c88>"
            ]
          },
          "metadata": {
            "tags": []
          },
          "execution_count": 3
        }
      ]
    },
    {
      "cell_type": "code",
      "metadata": {
        "id": "CjPopy8QuQVo",
        "colab_type": "code",
        "colab": {
          "base_uri": "https://localhost:8080/",
          "height": 416
        },
        "outputId": "e365cf33-4a08-41a2-cb51-7abe135b4c82"
      },
      "source": [
        "autoencoder.save_weights('auto_encoder_rbf.h5')\n",
        "a=encoder(input_img)\n",
        "encoder_model=Model(input_img,a[1])\n",
        "\n",
        "encoder_model.summary()"
      ],
      "execution_count": 4,
      "outputs": [
        {
          "output_type": "stream",
          "text": [
            "_________________________________________________________________\n",
            "Layer (type)                 Output Shape              Param #   \n",
            "=================================================================\n",
            "input_1 (InputLayer)         (None, 32, 32, 3)         0         \n",
            "_________________________________________________________________\n",
            "conv2d_8 (Conv2D)            (None, 32, 32, 16)        448       \n",
            "_________________________________________________________________\n",
            "max_pooling2d_4 (MaxPooling2 (None, 16, 16, 16)        0         \n",
            "_________________________________________________________________\n",
            "conv2d_9 (Conv2D)            (None, 16, 16, 8)         1160      \n",
            "_________________________________________________________________\n",
            "max_pooling2d_5 (MaxPooling2 (None, 8, 8, 8)           0         \n",
            "_________________________________________________________________\n",
            "conv2d_10 (Conv2D)           (None, 8, 8, 8)           584       \n",
            "_________________________________________________________________\n",
            "max_pooling2d_6 (MaxPooling2 (None, 4, 4, 8)           0         \n",
            "_________________________________________________________________\n",
            "flatten_2 (Flatten)          (None, 128)               0         \n",
            "=================================================================\n",
            "Total params: 2,192\n",
            "Trainable params: 2,192\n",
            "Non-trainable params: 0\n",
            "_________________________________________________________________\n"
          ],
          "name": "stdout"
        }
      ]
    },
    {
      "cell_type": "code",
      "metadata": {
        "id": "SBapLwoRv-eF",
        "colab_type": "code",
        "colab": {}
      },
      "source": [
        "for l1,l2 in zip(encoder_model.layers[:7],autoencoder.layers[0:7]):\n",
        "    l1.set_weights(l2.get_weights())"
      ],
      "execution_count": 0,
      "outputs": []
    },
    {
      "cell_type": "code",
      "metadata": {
        "id": "8q3QeOImwIg9",
        "colab_type": "code",
        "colab": {}
      },
      "source": [
        "x_train=encoder_model.predict(x_train)\n",
        "x_test=encoder_model.predict(x_test)"
      ],
      "execution_count": 0,
      "outputs": []
    },
    {
      "cell_type": "code",
      "metadata": {
        "id": "wn1tkC0xwUB0",
        "colab_type": "code",
        "colab": {
          "base_uri": "https://localhost:8080/",
          "height": 52
        },
        "outputId": "8535f72f-af82-43bf-b5f6-1ccbf69a2804"
      },
      "source": [
        "print(x_train.shape)\n",
        "print(x_test.shape)"
      ],
      "execution_count": 7,
      "outputs": [
        {
          "output_type": "stream",
          "text": [
            "(50000, 128)\n",
            "(10000, 128)\n"
          ],
          "name": "stdout"
        }
      ]
    },
    {
      "cell_type": "code",
      "metadata": {
        "id": "2Iuj7PKZ4Oic",
        "colab_type": "code",
        "colab": {}
      },
      "source": [
        "from sklearn.gaussian_process.kernels import PairwiseKernel\n",
        "import keras\n",
        "#from sklearn.metrics.pairwise import pairwise_kernels\n",
        "from sklearn.cluster import KMeans\n",
        "from sklearn.decomposition import PCA\n",
        "from sklearn.gaussian_process import GaussianProcessRegressor\n",
        "from keras.datasets import mnist\n",
        "from keras.models import Sequential\n",
        "from keras.layers import Dense, Dropout\n",
        "from keras.optimizers import RMSprop, Adam, Nadam"
      ],
      "execution_count": 0,
      "outputs": []
    },
    {
      "cell_type": "code",
      "metadata": {
        "id": "3GFtdDtO4R1s",
        "colab_type": "code",
        "colab": {
          "base_uri": "https://localhost:8080/",
          "height": 714
        },
        "outputId": "77ec83bc-778b-4d0d-e84b-fbdf6a1c4102"
      },
      "source": [
        "kmeans_model = KMeans(10)   #find 10 centers with kmeans on training samples\n",
        "kmeans_model.fit(x_train)\n",
        "centers = kmeans_model.cluster_centers_\n",
        "x = kmeans_model.predict(kmeans_model.cluster_centers_)\n",
        "x = keras.utils.to_categorical(x, 10)\n",
        "\n",
        "\n",
        "y_trainn= kmeans_model.predict(x_train)\n",
        "y_trainn=keras.utils.to_categorical(y_trainn,10)\n",
        "y_testt=kmeans_model.predict(x_test)\n",
        "y_testt=keras.utils.to_categorical(y_testt, 10)\n",
        "\n",
        "\n",
        "#                       RBF LAYER\n",
        "\n",
        "kernel = PairwiseKernel(metric='polynomial')   #GPR uses the kernel to define the covariance of the training sample\n",
        "rbf_model = GaussianProcessRegressor(kernel=kernel).fit(centers, x)\n",
        "\n",
        "temp1 = rbf_model.predict(x_train)\n",
        "temp2 = rbf_model.predict(x_test)\n",
        "\n",
        "\n",
        "#                      PERCEPTRONS LAYERS\n",
        "batch_size = 128\n",
        "epochs = 10\n",
        "\n",
        "model = Sequential()\n",
        "model.add(Dense(512, activation='relu', input_shape=(10,)))\n",
        "model.add(Dropout(0.2))\n",
        "model.add(Dense(10, activation='softmax'))\n",
        "\n",
        "model.summary()\n",
        "nadam=keras.optimizers.Nadam(lr=0.0005)\n",
        "model.compile(loss='categorical_crossentropy',\n",
        "              optimizer=nadam,\n",
        "              metrics=['accuracy'])\n",
        "\n",
        "#                      TRAINING THE MODEL\n",
        "history = model.fit(temp1, y_trainn,\n",
        "                    batch_size=batch_size,\n",
        "                    epochs=epochs,\n",
        "                    verbose=1,\n",
        "                    validation_data=(temp2, y_testt))\n",
        "\n",
        "#                      EVALUATE TRAINED MODEL\n",
        "score = model.evaluate(temp2, y_testt, verbose=0)\n",
        "print('Test loss:', score[0])\n",
        "print('Test accuracy:', score[1])\n",
        "\n",
        "\n"
      ],
      "execution_count": 9,
      "outputs": [
        {
          "output_type": "stream",
          "text": [
            "WARNING:tensorflow:From /usr/local/lib/python3.6/dist-packages/keras/backend/tensorflow_backend.py:3445: calling dropout (from tensorflow.python.ops.nn_ops) with keep_prob is deprecated and will be removed in a future version.\n",
            "Instructions for updating:\n",
            "Please use `rate` instead of `keep_prob`. Rate should be set to `rate = 1 - keep_prob`.\n",
            "_________________________________________________________________\n",
            "Layer (type)                 Output Shape              Param #   \n",
            "=================================================================\n",
            "dense_1 (Dense)              (None, 512)               5632      \n",
            "_________________________________________________________________\n",
            "dropout_1 (Dropout)          (None, 512)               0         \n",
            "_________________________________________________________________\n",
            "dense_2 (Dense)              (None, 10)                5130      \n",
            "=================================================================\n",
            "Total params: 10,762\n",
            "Trainable params: 10,762\n",
            "Non-trainable params: 0\n",
            "_________________________________________________________________\n",
            "Train on 50000 samples, validate on 10000 samples\n",
            "Epoch 1/10\n",
            "50000/50000 [==============================] - 2s 43us/step - loss: 1.1652 - acc: 0.6886 - val_loss: 0.6185 - val_acc: 0.8191\n",
            "Epoch 2/10\n",
            "50000/50000 [==============================] - 1s 26us/step - loss: 0.4863 - acc: 0.8514 - val_loss: 0.3888 - val_acc: 0.8845\n",
            "Epoch 3/10\n",
            "50000/50000 [==============================] - 1s 27us/step - loss: 0.3489 - acc: 0.8895 - val_loss: 0.3017 - val_acc: 0.9105\n",
            "Epoch 4/10\n",
            "50000/50000 [==============================] - 1s 26us/step - loss: 0.2862 - acc: 0.9068 - val_loss: 0.2515 - val_acc: 0.9268\n",
            "Epoch 5/10\n",
            "50000/50000 [==============================] - 1s 27us/step - loss: 0.2458 - acc: 0.9201 - val_loss: 0.2199 - val_acc: 0.9362\n",
            "Epoch 6/10\n",
            "50000/50000 [==============================] - 1s 27us/step - loss: 0.2173 - acc: 0.9276 - val_loss: 0.1961 - val_acc: 0.9439\n",
            "Epoch 7/10\n",
            "50000/50000 [==============================] - 1s 27us/step - loss: 0.1986 - acc: 0.9326 - val_loss: 0.1792 - val_acc: 0.9515\n",
            "Epoch 8/10\n",
            "50000/50000 [==============================] - 1s 27us/step - loss: 0.1814 - acc: 0.9390 - val_loss: 0.1642 - val_acc: 0.9559\n",
            "Epoch 9/10\n",
            "50000/50000 [==============================] - 1s 27us/step - loss: 0.1693 - acc: 0.9439 - val_loss: 0.1529 - val_acc: 0.9567\n",
            "Epoch 10/10\n",
            "50000/50000 [==============================] - 1s 26us/step - loss: 0.1595 - acc: 0.9458 - val_loss: 0.1439 - val_acc: 0.9596\n",
            "Test loss: 0.14391948299407958\n",
            "Test accuracy: 0.9596\n"
          ],
          "name": "stdout"
        }
      ]
    }
  ]
}